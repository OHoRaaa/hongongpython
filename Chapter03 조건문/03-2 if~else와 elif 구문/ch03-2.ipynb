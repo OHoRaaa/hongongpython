{
 "cells": [
  {
   "cell_type": "markdown",
   "metadata": {},
   "source": [
    "### 03-2 if ~ else 와 elif 문\n",
    "---\n",
    "#### 시작하기 전에\n",
    "**두 가지**만 구분되는 실행 흐름 : 오전/오후, 주간/야간, 남/여, 합격/불합격"
   ]
  },
  {
   "cell_type": "code",
   "execution_count": null,
   "metadata": {},
   "outputs": [],
   "source": [
    "# 오전/오후\n",
    "\n",
    "import datetime\n",
    "\n",
    "if"
   ]
  },
  {
   "cell_type": "markdown",
   "metadata": {},
   "source": [
    "> elif 구문 : 여러가지 케이스로 분기하고자 할 때"
   ]
  },
  {
   "cell_type": "code",
   "execution_count": null,
   "metadata": {},
   "outputs": [],
   "source": [
    "# 계절별, 요일별...\n",
    "\n",
    "# 학점 판별\n",
    "score = 0\n",
    "grade = \"\"\n",
    "\n",
    "score = int(input(\"점수를 입력하세요: \"))\n",
    "if score >= 95:\n",
    "    grade = \"A+\"\n",
    "elif score >= 90:\n",
    "    grade = \"A\"\n",
    "elif score >= 85:\n",
    "    grade = \"B+\"\n",
    "elif score >= 80:\n",
    "    grade = \"B\"\n",
    "elif score >= 75:\n",
    "    grade = \"C+\"\n",
    "elif score >= 70:\n",
    "    grade = \"C\"\n",
    "else:\n",
    "    grade = \"D\"\n",
    "\n",
    "print(f\"당신의 점수는 {score}점이고, 등급은 {grade}입니다.\")\n",
    "\n"
   ]
  },
  {
   "cell_type": "markdown",
   "metadata": {},
   "source": [
    "> False로 변환되는 값 : 0, 0.0, 빈 컨테이너, 빈 문자열, None"
   ]
  },
  {
   "cell_type": "code",
   "execution_count": 1,
   "metadata": {},
   "outputs": [
    {
     "name": "stdout",
     "output_type": "stream",
     "text": [
      "0은 False로 변환\n"
     ]
    },
    {
     "data": {
      "text/plain": [
       "False"
      ]
     },
     "execution_count": 1,
     "metadata": {},
     "output_type": "execute_result"
    }
   ],
   "source": [
    "if 0:\n",
    "    print(\"0은 True로 변환\")\n",
    "else:\n",
    "    print(\"0은 False로 변환\")\n",
    "\n",
    "\n",
    "bool(None)"
   ]
  },
  {
   "cell_type": "markdown",
   "metadata": {},
   "source": [
    "> pass 키워드: 프로그래밍 시 전체 골격을 잡아 놓고 처리 할 내용은 차근차근 구현하고자 할 때"
   ]
  },
  {
   "cell_type": "code",
   "execution_count": null,
   "metadata": {},
   "outputs": [],
   "source": [
    "number = input(\"정수입력 > \")\n",
    "number = int(number)\n",
    "if number > 0:\n",
    "    # 양수일 때 : 아직 미구현 상태\n",
    "    0\n",
    "else:\n",
    "    # 음수일 때 : 아직 미구현 상태\n",
    "    0\n",
    "\n",
    "if number > 0:\n",
    "    pass\n",
    "else:\n",
    "    pass\n",
    "\n",
    "# 에외처리\n",
    "if number > 0:\n",
    "    raise NotImplementedError\n",
    "else:\n",
    "    raise NotImplementedError"
   ]
  },
  {
   "cell_type": "markdown",
   "metadata": {},
   "source": [
    "> 사용자로부터 태어난 년도를 입력받아 띠를 리턴해주는 프로그램 작성"
   ]
  },
  {
   "cell_type": "code",
   "execution_count": 4,
   "metadata": {},
   "outputs": [
    {
     "name": "stdout",
     "output_type": "stream",
     "text": [
      "[00, 01, 02, 03, 04, 05, 06, 07, 08, 09, 10, 11]\n",
      "[원숭이, 닭, 개, 돼지, 쥐, 소, 호랑이, 토끼, 용, 뱀, 말, 양]\n",
      "당신은 돼지띠 입니다.\n"
     ]
    }
   ],
   "source": [
    "print(\"[00, 01, 02, 03, 04, 05, 06, 07, 08, 09, 10, 11]\")\n",
    "print(\"[원숭이, 닭, 개, 돼지, 쥐, 소, 호랑이, 토끼, 용, 뱀, 말, 양]\")\n",
    "\n",
    "\n",
    "\n",
    "a = input(\"년도를 입력하시오\")\n",
    "year = int(a)\n",
    "remainder = year % 12\n",
    "sign = \"\"\n",
    "\n",
    "if remainder == 0: \n",
    "    sign = \"원숭이\"\n",
    "elif remainder == 1:\n",
    "    sign = \"닭\"\n",
    "elif remainder == 2:\n",
    "    sign = \"개\"\n",
    "elif remainder == 3:\n",
    "    sign = \"돼지\"\n",
    "elif remainder == 4:\n",
    "    sign = \"쥐\"\n",
    "elif remainder == 5:\n",
    "    sign = \"소\"\n",
    "elif remainder == 6:\n",
    "    sign = \"호랑이\"\n",
    "elif remainder == 7:\n",
    "    sign = \"토끼\"\n",
    "elif remainder == 8:\n",
    "    sign = \"용\"\n",
    "elif remainder == 9:\n",
    "    sign = \"뱀\"\n",
    "elif remainder == 10:\n",
    "    sign = \"말\"\n",
    "elif remainder == 11:\n",
    "    sign = \"양\"\n",
    "\n",
    "print(f\"당신은 {sign}띠 입니다.\")\n",
    "\n",
    "\n",
    "\n",
    "\n",
    "\n",
    "\n",
    "\n",
    "\n",
    "\n",
    "\n"
   ]
  },
  {
   "cell_type": "markdown",
   "metadata": {},
   "source": [
    "> 현재 계절을 리턴해주는 프로그램 작성"
   ]
  },
  {
   "cell_type": "code",
   "execution_count": 24,
   "metadata": {},
   "outputs": [
    {
     "name": "stdout",
     "output_type": "stream",
     "text": [
      "11월은 가을입니다.\n"
     ]
    }
   ],
   "source": [
    "# import datetime           ----------------> 이것도 사용해보기\n",
    "\n",
    "season = [\"봄\", \"여름\", \"가을\", \"겨울\"]\n",
    "month = int(input(\"월을 입력하세요\"))\n",
    "\n",
    "if 3 <= month <=5:\n",
    "    print(f\"{month}월은 {season[0]}입니다.\")\n",
    "elif 6 <= month <= 8:\n",
    "    print(f\"{month}월은 {season[1]}입니다.\")\n",
    "elif 9 <= month <= 11:\n",
    "    print(f\"{month}월은 {season[2]}입니다.\")\n",
    "else:\n",
    "    print(f\"{month}월은 {season[3]}입니다.\")\n",
    "\n",
    "\n",
    "    "
   ]
  },
  {
   "cell_type": "markdown",
   "metadata": {},
   "source": [
    "> 짝수, 홀수 구분하는 프로그램"
   ]
  },
  {
   "cell_type": "code",
   "execution_count": 15,
   "metadata": {},
   "outputs": [
    {
     "name": "stdout",
     "output_type": "stream",
     "text": [
      "4 (은)는 짝수입니다.\n"
     ]
    }
   ],
   "source": [
    "input_data = input(\"정수입력> \")\n",
    "\n",
    "# 마지막 자리 숫자 추출\n",
    "last_char = input_data[-1]\n",
    "\n",
    "# 숫자로 변환\n",
    "number = int(last_char)\n",
    "\n",
    "if number == 0 or number == 2 \\\n",
    "    or number == 4 or number == 6 or number == 8:\n",
    "    print(\"{} (은)는 짝수입니다.\".format(input_data))\n",
    "else:\n",
    "    print(\"{} (은)는 홀수입니다.\".format(input_data))\n",
    "    \n",
    "\n",
    "\n",
    "\n"
   ]
  },
  {
   "cell_type": "code",
   "execution_count": 17,
   "metadata": {},
   "outputs": [
    {
     "name": "stdout",
     "output_type": "stream",
     "text": [
      "46 (은)는 짝수입니다.\n"
     ]
    }
   ],
   "source": [
    "input_data = input(\"정수입력> \")\n",
    "\n",
    "# 마지막 자리 숫자 추출\n",
    "last_char = input_data[-1]\n",
    "\n",
    "if last_char in \"02468\":\n",
    "    print(\"{} (은)는 짝수입니다.\".format(input_data))\n",
    "else:\n",
    "    print(\"{} (은)는 홀수입니다.\".format(input_data))"
   ]
  },
  {
   "cell_type": "code",
   "execution_count": null,
   "metadata": {},
   "outputs": [],
   "source": [
    "# % 연산자 사용\n",
    "if number % 2 == 0:\n",
    "    print(\"{} (은)는 짝수입니다.\".format(input_data))\n",
    "else:\n",
    "    print(\"{} (은)는 홀수입니다.\".format(input_data))"
   ]
  }
 ],
 "metadata": {
  "interpreter": {
   "hash": "054c0b5073ae8ed56926c5c67113945079b283bacf1a269ae7086b3d9eebd60c"
  },
  "kernelspec": {
   "display_name": "Python 3.10.1 64-bit",
   "language": "python",
   "name": "python3"
  },
  "language_info": {
   "codemirror_mode": {
    "name": "ipython",
    "version": 3
   },
   "file_extension": ".py",
   "mimetype": "text/x-python",
   "name": "python",
   "nbconvert_exporter": "python",
   "pygments_lexer": "ipython3",
   "version": "3.10.1"
  },
  "orig_nbformat": 4
 },
 "nbformat": 4,
 "nbformat_minor": 2
}
