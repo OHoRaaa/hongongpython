{
 "cells": [
  {
   "cell_type": "markdown",
   "metadata": {},
   "source": [
    "### 02-3 변수와 입력\n",
    "---   \n",
    "#### 시작하기 전에\n",
    "***변수***란 값을 저장하여 사용하기 위한 식별자이다."
   ]
  },
  {
   "cell_type": "markdown",
   "metadata": {},
   "source": [
    "> 변수(variable) 만들기(사용)"
   ]
  },
  {
   "cell_type": "code",
   "execution_count": 2,
   "metadata": {},
   "outputs": [
    {
     "name": "stdout",
     "output_type": "stream",
     "text": [
      "게좌잔고: 300000 원\n"
     ]
    }
   ],
   "source": [
    "#  계좌에 100만원 가지고 용산전자상가에서 노트북과 이어폰을 사고 정산하기\n",
    "account = 1_000_000\n",
    "notebook = 500_000\n",
    "earphone = 200_000\n",
    "\n",
    "balance = account - (notebook + earphone)\n",
    "print(\"게좌잔고:\", balance, \"원\")"
   ]
  },
  {
   "cell_type": "markdown",
   "metadata": {},
   "source": [
    "> 복합대입연산자 : += -= *= /= %="
   ]
  },
  {
   "cell_type": "code",
   "execution_count": 6,
   "metadata": {},
   "outputs": [
    {
     "name": "stdout",
     "output_type": "stream",
     "text": [
      "1\n",
      "10\n",
      "20\n",
      "4.0\n",
      "안녕하세요! 여러분\n",
      "~ ~ ~ ~ ~ \n"
     ]
    }
   ],
   "source": [
    "a = 0\n",
    "print(a + 1)\n",
    "a += 10 # a = 0 + 10\n",
    "print(a)\n",
    "\n",
    "a += 10\n",
    "print(a)\n",
    "\n",
    "a /=5   # a = a/(float)5\n",
    "print(a)\n",
    "\n",
    "# 문자열 연산(+, *)\n",
    "string = \"안녕하세요!\"\n",
    "string += \" 여러분\"       # string = \"안녕하세요!\" + \" 여러분\"\n",
    "print(string)\n",
    "\n",
    "ch = '~ '\n",
    "ch *= 5    # ch = ch * 5\n",
    "print(ch)\n",
    "\n"
   ]
  },
  {
   "cell_type": "markdown",
   "metadata": {},
   "source": [
    "> 사용자 입력 : input()"
   ]
  },
  {
   "cell_type": "code",
   "execution_count": 11,
   "metadata": {},
   "outputs": [
    {
     "name": "stdout",
     "output_type": "stream",
     "text": [
      "<class 'int'>\n",
      "20\n"
     ]
    }
   ],
   "source": [
    "keyboard = int(input(\"숫자를 입력해 주세요: \"))\n",
    "print(type(keyboard))\n",
    "\n",
    "print(keyboard + 10)"
   ]
  },
  {
   "cell_type": "markdown",
   "metadata": {},
   "source": [
    "> 타입 캐스팅(형변환)"
   ]
  },
  {
   "cell_type": "code",
   "execution_count": null,
   "metadata": {},
   "outputs": [],
   "source": [
    "keyboard = input(\"숫자를 입력해 주세요: \")\n",
    "print(\"입력값\", keyboard)\n",
    "print(type(keyboard))\n",
    "\n",
    "# 'str' to 'int' : 문자열을 숫자로\n",
    "keyboard = int(keyboard)\n",
    "print(\"int(입력값):\", keyboard)\n",
    "print(type(keyboard))\n",
    "\n",
    "keyboard += 10\n",
    "print(\"입력값 + 10 =\", keyboard)\n"
   ]
  },
  {
   "cell_type": "code",
   "execution_count": 17,
   "metadata": {},
   "outputs": [
    {
     "name": "stdout",
     "output_type": "stream",
     "text": [
      "<class 'float'>\n"
     ]
    }
   ],
   "source": [
    "radius = float(input(\"원의 반지름(실수)을 입력하세요: \"))\n",
    "print(type(radius))\n"
   ]
  },
  {
   "cell_type": "markdown",
   "metadata": {},
   "source": [
    "> 사용자 입력값 계산하기"
   ]
  },
  {
   "cell_type": "code",
   "execution_count": null,
   "metadata": {},
   "outputs": [],
   "source": [
    "# 숫자를 두 번 입력받아 계산하고 결과(사칙연산)를 출력하시오\n",
    "\n",
    "# 변수 선언\n",
    "x = None; y = None\n",
    "\n",
    "x = float(input(\"첫 번째 숫자 입력: \"))\n",
    "y = float(input(\"첫 번째 숫자 입력: \"))\n"
   ]
  },
  {
   "cell_type": "code",
   "execution_count": null,
   "metadata": {},
   "outputs": [],
   "source": [
    "a = int(input(\"숫자를 입력하시오\"))\n",
    "print(a)\n",
    "\n",
    "b = int(input(\"숫자를 입력하시오\"))\n",
    "print(b)\n",
    "\n",
    "result = (a + 10) * b\n",
    "\n",
    "print(result)\n"
   ]
  },
  {
   "cell_type": "markdown",
   "metadata": {},
   "source": [
    "> ValueError 예외"
   ]
  },
  {
   "cell_type": "code",
   "execution_count": null,
   "metadata": {},
   "outputs": [],
   "source": [
    "# print(dir(__builtins__))\n",
    "\n",
    "# 첫째, 숫자가 아닌 자료를 숫자로 변환하려고 할 때\n",
    "# data = int(input(\"정수를 입력하세요: \")) # \"Hello\" 문자열 입력\n",
    "# print(data)\n",
    "\n",
    "i = int(\"123456789\")\n",
    "print(i)\n",
    "\n",
    "int(\"안녕하세요\")\n",
    "float(\"Python\")"
   ]
  },
  {
   "cell_type": "code",
   "execution_count": null,
   "metadata": {},
   "outputs": [],
   "source": [
    "# 둘째, 소수점이 있는 숫자 형식의 문자열을 int() 형변환하려고 할 때\n",
    "\n",
    "x = 42.195\n",
    "print(int(x))\n",
    "\n",
    "s = \"42195\"\n",
    "print(int(s))\n",
    "\n",
    "sf = \"42.195\"\n",
    "int(sf)        # 오류\n",
    "float(sf)      # 출력"
   ]
  },
  {
   "cell_type": "markdown",
   "metadata": {},
   "source": [
    "> 숫자를 문자열로 바꾸기 : 'str()"
   ]
  },
  {
   "cell_type": "code",
   "execution_count": 24,
   "metadata": {},
   "outputs": [
    {
     "name": "stdout",
     "output_type": "stream",
     "text": [
      "50\n",
      "2030\n"
     ]
    }
   ],
   "source": [
    "a = 20\n",
    "b = 30\n",
    "print(a + b)\n",
    "\n",
    "a = str(a)     # 20 -> '20'\n",
    "b = str(b)     # 30 -> '30'\n",
    "print(a + b)"
   ]
  },
  {
   "cell_type": "code",
   "execution_count": null,
   "metadata": {},
   "outputs": [],
   "source": [
    "# \"오늘의 날짜: 2022.1.5\"\n"
   ]
  },
  {
   "cell_type": "code",
   "execution_count": 38,
   "metadata": {},
   "outputs": [
    {
     "name": "stdout",
     "output_type": "stream",
     "text": [
      "4.0 인치는 10.16cm 입니다.\n"
     ]
    }
   ],
   "source": [
    "# 사용자로부터 인치(inch)를 입력받아 (cm) 리턴해주는 프로그램 작성\n",
    "\n",
    "a = float(input(\"인치(숫자)를 입력해주세요.\"))\n",
    "cm = 2.54 * a\n",
    "\n",
    "print(\"{} 인치는 {}cm 입니다.\".format(a, cm))\n"
   ]
  }
 ],
 "metadata": {
  "interpreter": {
   "hash": "054c0b5073ae8ed56926c5c67113945079b283bacf1a269ae7086b3d9eebd60c"
  },
  "kernelspec": {
   "display_name": "Python 3.10.1 64-bit",
   "language": "python",
   "name": "python3"
  },
  "language_info": {
   "codemirror_mode": {
    "name": "ipython",
    "version": 3
   },
   "file_extension": ".py",
   "mimetype": "text/x-python",
   "name": "python",
   "nbconvert_exporter": "python",
   "pygments_lexer": "ipython3",
   "version": "3.10.1"
  },
  "orig_nbformat": 4
 },
 "nbformat": 4,
 "nbformat_minor": 2
}
