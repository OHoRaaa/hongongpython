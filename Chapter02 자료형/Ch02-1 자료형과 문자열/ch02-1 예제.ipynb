{
 "cells": [
  {
   "cell_type": "markdown",
   "metadata": {},
   "source": [
    "> \"940415-1357946\"   \n",
    "   생일, 나이, 성별을 추출하시오."
   ]
  },
  {
   "cell_type": "code",
   "execution_count": 6,
   "metadata": {},
   "outputs": [
    {
     "name": "stdout",
     "output_type": "stream",
     "text": [
      "생일은 04 월 15 일 이고, 나이는 29 살 이며,  성별은 남자 입니다.\n"
     ]
    }
   ],
   "source": [
    "a = \"940415-1357946\"\n",
    "\n",
    "month = a[2:4]\n",
    "day = a[4:6]\n",
    "age = 2022 - (1900 + int(a[:2])) + 1\n",
    "what = int(a[7])\n",
    "gender = \"\"\n",
    "\n",
    "if what % 2 == 0:\n",
    "    gender = \"여자\"\n",
    "else:\n",
    "    gender = \"남자\"\n",
    "\n",
    "print(\"생일은\", month, \"월\", day, \"일 이고,\", \"나이는\", age, \"살 이며,\",\" 성별은\", gender, \"입니다.\")\n"
   ]
  }
 ],
 "metadata": {
  "interpreter": {
   "hash": "8931d08a56ba8ec5bd4013e6d6c9066a90d099ecd0b9731835efa4c48cf46a24"
  },
  "kernelspec": {
   "display_name": "Python 3.10.1 64-bit",
   "language": "python",
   "name": "python3"
  },
  "language_info": {
   "codemirror_mode": {
    "name": "ipython",
    "version": 3
   },
   "file_extension": ".py",
   "mimetype": "text/x-python",
   "name": "python",
   "nbconvert_exporter": "python",
   "pygments_lexer": "ipython3",
   "version": "3.10.1"
  },
  "orig_nbformat": 4
 },
 "nbformat": 4,
 "nbformat_minor": 2
}
